{
 "cells": [
  {
   "cell_type": "code",
   "execution_count": 1,
   "metadata": {},
   "outputs": [],
   "source": [
    "from Py6S import *\n",
    "import numpy as np\n",
    "%matplotlib inline\n",
    "import ipywidgets as widgets\n",
    "from matplotlib import pyplot as plt"
   ]
  },
  {
   "cell_type": "code",
   "execution_count": 2,
   "metadata": {},
   "outputs": [
    {
     "name": "stdout",
     "output_type": "stream",
     "text": [
      "Running for many wavelengths - this may take a long time\n"
     ]
    },
    {
     "data": {
      "application/vnd.jupyter.widget-view+json": {
       "model_id": "c798541da1c641288cabb5f08c05a943",
       "version_major": 2,
       "version_minor": 0
      },
      "text/plain": [
       "Canvas(toolbar=Toolbar(toolitems=[('Home', 'Reset original view', 'home', 'home'), ('Back', 'Back to previous …"
      ]
     },
     "metadata": {},
     "output_type": "display_data"
    }
   ],
   "source": [
    "s = SixS()\n",
    "#s.atmos_profile = AtmosProfile.PredefinedType(AtmosProfile.Tropical)\n",
    "\n",
    "s.altitudes.set_sensor_satellite_level()\n",
    "s.atmos_profile = AtmosProfile.PredefinedType(AtmosProfile.Tropical)\n",
    "#s.ground_reflectance = GroundReflectance.HomogeneousLambertian(GroundReflectance.GreenVegetation)\n",
    "s.geometry = Geometry.User()\n",
    "s.geometry.from_time_and_location(-35.0481, 150.7447, \"06:00:00\", 0, 0) #% 11am AEDT\n",
    "\n",
    "wv, res = SixSHelpers.Wavelengths.run_wavelengths(s,np.arange(0.400, 1, 0.01), output_name='pixel_radiance')\n",
    "phots=res/(1.98644582e-25/(wv*1e-6))\n",
    "SixSHelpers.Wavelengths.plot_wavelengths(wv, phots, \"rad at satel. level (photons/s/m^2/sr/mic)\")"
   ]
  },
  {
   "cell_type": "code",
   "execution_count": 18,
   "metadata": {},
   "outputs": [],
   "source": [
    "loopfnum=[]\n",
    "loopgsd=[]\n",
    "loopsn=[]\n",
    "for loopefl in range(50, 800, 10):\n",
    "    apeture=40e-3\n",
    "    efl=loopefl*1e-3\n",
    "\n",
    "    fnum=efl/apeture\n",
    "\n",
    "    pixelsize=5e-6 #m\n",
    "\n",
    "    pixelFOV=pixelsize/efl\n",
    "\n",
    "    int_time=2e-3 # integrations time, s\n",
    "    dlam=0.015 #um\n",
    "\n",
    "    QE=0.7 # detector quantum efficeny\n",
    "    trans=0.8 # trans. of optics\n",
    "\n",
    "    SLDangle=apeture**2 * np.pi / (4*efl**2)\n",
    "\n",
    "    A=pixelsize**2\n",
    "\n",
    "    #photons/s/m^2/sr/mic * losses\n",
    "    captured_phots=phots * int_time * A * SLDangle * dlam * trans * QE\n",
    "\n",
    "    #SixSHelpers.Wavelengths.plot_wavelengths(wv, captured_phots, \"rad at satel. level collected (photons per pixel)\")\n",
    "    #SixSHelpers.Wavelengths.plot_wavelengths(wv, captured_phots/np.sqrt(captured_phots), \"S/N\")\n",
    "    loopfnum.append(fnum)\n",
    "    loopgsd.append(550e3/efl *2 *pixelsize)\n",
    "    loopsn.append(np.nanmean(np.sqrt(captured_phots)))\n",
    "    \n",
    "    #     print(\"F/#: {}\".format(fnum))\n",
    "    #     print(\"Resolution Element Size: {} m, for EFL: {} mm\".format(550e3/efl *2 *pixelsize,efl*1e3))\n",
    "    #     print(\"Mean S/N: {}\".format(np.nanmean(np.sqrt(captured_phots))))"
   ]
  },
  {
   "cell_type": "code",
   "execution_count": 19,
   "metadata": {},
   "outputs": [
    {
     "data": {
      "application/vnd.jupyter.widget-view+json": {
       "model_id": "64f63984deef44b685cb760665175516",
       "version_major": 2,
       "version_minor": 0
      },
      "text/plain": [
       "Canvas(toolbar=Toolbar(toolitems=[('Home', 'Reset original view', 'home', 'home'), ('Back', 'Back to previous …"
      ]
     },
     "metadata": {},
     "output_type": "display_data"
    }
   ],
   "source": [
    "fig, ax1 = plt.subplots()\n",
    "color = 'tab:red'\n",
    "ax1.set_xlabel('F/#')\n",
    "ax1.set_ylabel('S/N', color=color)\n",
    "ax1.plot(loopfnum, loopsn, color=color)\n",
    "ax1.tick_params(axis='y', labelcolor=color)\n",
    "plt.grid(True)\n",
    "ax2 = ax1.twinx()  # instantiate a second axes that shares the same x-axis\n",
    "\n",
    "color = 'tab:blue'\n",
    "ax2.set_ylabel('GSD (m)', color=color)  # we already handled the x-label with ax1\n",
    "ax2.plot(loopfnum, loopgsd, color=color)\n",
    "ax2.tick_params(axis='y', labelcolor=color)\n",
    "\n",
    "fig.tight_layout()  # otherwise the right y-label is slightly clipped\n",
    "plt.show()"
   ]
  }
 ],
 "metadata": {
  "kernelspec": {
   "display_name": "Python 3",
   "language": "python",
   "name": "python3"
  },
  "language_info": {
   "codemirror_mode": {
    "name": "ipython",
    "version": 3
   },
   "file_extension": ".py",
   "mimetype": "text/x-python",
   "name": "python",
   "nbconvert_exporter": "python",
   "pygments_lexer": "ipython3",
   "version": "3.8.5"
  }
 },
 "nbformat": 4,
 "nbformat_minor": 4
}
