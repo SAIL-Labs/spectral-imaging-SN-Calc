{
 "cells": [
  {
   "cell_type": "code",
   "execution_count": 1,
   "metadata": {},
   "outputs": [],
   "source": [
    "from Py6S import *\n",
    "import numpy as np\n",
    "%matplotlib widget\n",
    "import ipywidgets as widgets\n",
    "from matplotlib import pyplot as plt\n",
    "from matplotlib.widgets import Cursor"
   ]
  },
  {
   "cell_type": "code",
   "execution_count": 2,
   "metadata": {},
   "outputs": [],
   "source": [
    "def wattsToPhotons(radwatts,waves):\n",
    "    return radwatts/(1.98644582e-25/(waves*1e-6))\n",
    "\n",
    "def convertRadAtSatLevelToPhotonsCapturedBySensor(radwatts, waves, apeture, efl, pixelsize, int_time, dlam, QE, inst_trans):\n",
    "    phots=wattsToPhotons(radwatts,waves)\n",
    "    \n",
    "    fnum=efl/apeture\n",
    "    \n",
    "    if type(pixelsize) is tuple:\n",
    "        A=pixelsize[0]*pixelsize[1]\n",
    "    else:\n",
    "        A=pixelsize**2\n",
    "        \n",
    "    SLDangle=apeture**2 * np.pi / (4*efl**2)\n",
    "    \n",
    "    captured_phots = phots * int_time * A * SLDangle * dlam * inst_trans * QE\n",
    "    \n",
    "    return captured_phots"
   ]
  },
  {
   "cell_type": "markdown",
   "metadata": {},
   "source": [
    "# Run 6SV simulation to estimate radiance received by sensor in orbit.\n",
    "Uses the Py6SV wrapper and mostly default values for now. Gemortry is set to obsevere Jervis Bay at 11am, nadir pointing (I think)."
   ]
  },
  {
   "cell_type": "code",
   "execution_count": 3,
   "metadata": {},
   "outputs": [
    {
     "name": "stdout",
     "output_type": "stream",
     "text": [
      "Running for many wavelengths - this may take a long time\n"
     ]
    }
   ],
   "source": [
    "s = SixS()\n",
    "\n",
    "#s.atmos_profile = AtmosProfile.PredefinedType(AtmosProfile.Tropical)\n",
    "\n",
    "s.altitudes.set_sensor_satellite_level()\n",
    "s.atmos_profile = AtmosProfile.PredefinedType(AtmosProfile.MidlatitudeSummer)\n",
    "#s.ground_reflectance = GroundReflectance.HomogeneousLambertian(GroundReflectance.GreenVegetation)\n",
    "s.geometry = Geometry.User()\n",
    "s.geometry.from_time_and_location(-35.0481, 150.7447, \"2021-01-01T00:00:00.0\", 0, 0) #% 11am AEDT above jervis bay.\n",
    "\n",
    "wv, res = SixSHelpers.Wavelengths.run_wavelengths(s,np.arange(0.400, 1, 0.01), output_name='pixel_radiance')"
   ]
  },
  {
   "cell_type": "markdown",
   "metadata": {},
   "source": [
    "# Interactive S/N calc"
   ]
  },
  {
   "cell_type": "markdown",
   "metadata": {},
   "source": [
    "The papramets can be adjusted in the plot ot the effect on the S/N. \n",
    "- *Aperture* is the diameter of the entrance aperture of the sensor in mm\n",
    "- *EFL* is effiective focal length in mm\n",
    "- *pixelsize* is the size of a spatial pixel on the sensor in micrometers. (i.e. raw pixel size on the ximea linescane sensor or the slit size in spectrograh based design (note I assume in that case Entenue is conserved by the spec).\n",
    "- *int_time* is the inegration time of the sensor in ms.\n",
    "- *dlam* is the spectral resolution of the instrument (or the width of spectral bands)."
   ]
  },
  {
   "cell_type": "code",
   "execution_count": 1,
   "metadata": {},
   "outputs": [
    {
     "ename": "NameError",
     "evalue": "name 'plt' is not defined",
     "output_type": "error",
     "traceback": [
      "\u001b[0;31m---------------------------------------------------------------------------\u001b[0m",
      "\u001b[0;31mNameError\u001b[0m                                 Traceback (most recent call last)",
      "\u001b[0;32m<ipython-input-1-04e54c6696f7>\u001b[0m in \u001b[0;36m<module>\u001b[0;34m\u001b[0m\n\u001b[1;32m      1\u001b[0m \u001b[0;31m# set up plot\u001b[0m\u001b[0;34m\u001b[0m\u001b[0;34m\u001b[0m\u001b[0;34m\u001b[0m\u001b[0m\n\u001b[0;32m----> 2\u001b[0;31m \u001b[0mfig\u001b[0m\u001b[0;34m,\u001b[0m \u001b[0max\u001b[0m \u001b[0;34m=\u001b[0m \u001b[0mplt\u001b[0m\u001b[0;34m.\u001b[0m\u001b[0msubplots\u001b[0m\u001b[0;34m(\u001b[0m\u001b[0mfigsize\u001b[0m\u001b[0;34m=\u001b[0m\u001b[0;34m(\u001b[0m\u001b[0;36m6\u001b[0m\u001b[0;34m,\u001b[0m \u001b[0;36m4\u001b[0m\u001b[0;34m)\u001b[0m\u001b[0;34m)\u001b[0m\u001b[0;34m\u001b[0m\u001b[0;34m\u001b[0m\u001b[0m\n\u001b[0m\u001b[1;32m      3\u001b[0m \u001b[0;34m\u001b[0m\u001b[0m\n\u001b[1;32m      4\u001b[0m \u001b[0max\u001b[0m\u001b[0;34m.\u001b[0m\u001b[0mgrid\u001b[0m\u001b[0;34m(\u001b[0m\u001b[0;32mTrue\u001b[0m\u001b[0;34m)\u001b[0m\u001b[0;34m\u001b[0m\u001b[0;34m\u001b[0m\u001b[0m\n\u001b[1;32m      5\u001b[0m \u001b[0max\u001b[0m\u001b[0;34m.\u001b[0m\u001b[0mautoscale\u001b[0m\u001b[0;34m(\u001b[0m\u001b[0;32mTrue\u001b[0m\u001b[0;34m,\u001b[0m \u001b[0;34m'both'\u001b[0m\u001b[0;34m,\u001b[0m \u001b[0;32mTrue\u001b[0m\u001b[0;34m)\u001b[0m\u001b[0;34m\u001b[0m\u001b[0;34m\u001b[0m\u001b[0m\n",
      "\u001b[0;31mNameError\u001b[0m: name 'plt' is not defined"
     ]
    }
   ],
   "source": [
    "# set up plot\n",
    "fig, ax = plt.subplots(figsize=(6, 4))\n",
    "\n",
    "ax.grid(True)\n",
    "ax.autoscale(True, 'both', True)\n",
    " \n",
    "@widgets.interact(apeture=(10, 100, 1), \n",
    "                  efl=(100, 1000, 20), \n",
    "                  pixelsize=(5.5, 60, 0.5),\n",
    "                  int_time=(1,10,1),\n",
    "                  dlam=(0.1,50,0.1),\n",
    "                 )\n",
    "def update(apeture = 45, efl=700, pixelsize=5.5, int_time=2, dlam=30):\n",
    "    \"\"\"Remove old lines from plot and plot new one\"\"\"\n",
    "    [l.remove() for l in ax.lines]\n",
    "    \n",
    "    SN=np.sqrt(convertRadAtSatLevelToPhotonsCapturedBySensor(radwatts=res,\n",
    "                                                              waves=wv, \n",
    "                                                              apeture=apeture*1e-3, \n",
    "                                                              efl=efl*1e-3, \n",
    "                                                              pixelsize=pixelsize*1e-6, \n",
    "                                                              int_time=int_time*1e-3,\n",
    "                                                              dlam=dlam*1e-3, \n",
    "                                                              QE=0.7, \n",
    "                                                              inst_trans=0.8))\n",
    "    ax.set_title(\"Mean S/N: {:.2f}\".format(np.nanmean(SN)))\n",
    "    #ax.set_ylim([0, np.nanmax(SN)*1.1])\n",
    "    ax.plot(wv, SN, color='C0')"
   ]
  },
  {
   "cell_type": "markdown",
   "metadata": {},
   "source": [
    "# Signal plots at various conversion points."
   ]
  },
  {
   "cell_type": "code",
   "execution_count": 5,
   "metadata": {},
   "outputs": [],
   "source": [
    "captured_phots = convertRadAtSatLevelToPhotonsCapturedBySensor(radwatts=res,\n",
    "                                                              waves=wv, \n",
    "                                                              apeture=45e-3, \n",
    "                                                              efl=700*1e-3, \n",
    "                                                              pixelsize=(25.5e-6, 9.6e-6),\n",
    "                                                              int_time=2e-3,\n",
    "                                                              dlam=0.015, \n",
    "                                                              QE=0.7, \n",
    "                                                              inst_trans=0.8)"
   ]
  },
  {
   "cell_type": "code",
   "execution_count": 6,
   "metadata": {},
   "outputs": [
    {
     "data": {
      "image/png": "[encoded data removed]",
      "text/plain": [
       "<Figure size 432x288 with 1 Axes>"
      ]
     },
     "metadata": {
      "needs_background": "light"
     },
     "output_type": "display_data"
    },
    {
     "data": {
      "image/png": "[encoded data removed]",
      "text/plain": [
       "<Figure size 432x288 with 1 Axes>"
      ]
     },
     "metadata": {
      "needs_background": "light"
     },
     "output_type": "display_data"
    },
    {
     "data": {
      "image/png": "[encoded data removed]",
      "text/plain": [
       "<Figure size 432x288 with 1 Axes>"
      ]
     },
     "metadata": {
      "needs_background": "light"
     },
     "output_type": "display_data"
    }
   ],
   "source": [
    "%matplotlib inline\n",
    "SixSHelpers.Wavelengths.plot_wavelengths(wv, res, \"rad at satel. level (photons/s/m^2/sr/mic)\")\n",
    "SixSHelpers.Wavelengths.plot_wavelengths(wv, captured_phots, \"rad at satel. level collected by sensor (photons per pixel)\")\n",
    "SixSHelpers.Wavelengths.plot_wavelengths(wv, captured_phots/np.sqrt(captured_phots), \"S/N\")"
   ]
  },
  {
   "cell_type": "markdown",
   "metadata": {},
   "source": [
    "# Generate plot of F/# vs GSD and corresponding mean S/N"
   ]
  },
  {
   "cell_type": "code",
   "execution_count": 7,
   "metadata": {},
   "outputs": [],
   "source": [
    "def loopOverEFL(res, wv, apeture, pixelsize, dlam):\n",
    "    loopfnum=[]\n",
    "    loopgsd=[]\n",
    "    loopsn=[]\n",
    "    loopefl=[]\n",
    "    loopint_time=[]\n",
    "    \n",
    "    \n",
    "    for fnum in range(3, 30, 1):        \n",
    "        efl=fnum*apeture\n",
    "        gsd=550e3/efl*1e-3 * pixelsize[0]\n",
    "        maxexposuretime=0.1318*gsd  #https://www.wolframalpha.com/input/?i=1m+%2F+sqrt%28Gravitational+constant+*mass+of+earth%2F%28radius+of+earth+%2B+550km%29%29+in+ms\n",
    "        captured_phots= convertRadAtSatLevelToPhotonsCapturedBySensor(radwatts=res,\n",
    "                                                                      waves=wv, \n",
    "                                                                      apeture=apeture*1e-3, \n",
    "                                                                      efl=efl*1e-3, \n",
    "                                                                      pixelsize=pixelsize*1e-6, \n",
    "                                                                      int_time=maxexposuretime*1e-3,\n",
    "                                                                      dlam=dlam*1e-3,\n",
    "                                                                      QE=0.5, \n",
    "                                                                      inst_trans=0.8)\n",
    "\n",
    "        loopfnum.append(fnum)\n",
    "        loopgsd.append(gsd)\n",
    "        loopsn.append(np.nanmean(np.sqrt(captured_phots)))\n",
    "        loopefl.append(efl)\n",
    "        loopint_time.append(maxexposuretime)\n",
    "        \n",
    "    return (loopfnum, loopgsd, loopsn, loopefl, loopint_time)\n",
    "    \n",
    "\n",
    "    \n",
    "#         print(\"F/#: {}\".format(fnum))\n",
    "#         print(\"Resolution Element Size: {} m, for EFL: {} mm\".format(550e3/efl *2 *pixelsize,efl*1e3))\n",
    "#         print(\"Mean S/N: {}\".format(np.nanmean(np.sqrt(captured_phots))))"
   ]
  },
  {
   "cell_type": "code",
   "execution_count": 8,
   "metadata": {},
   "outputs": [
    {
     "ename": "TypeError",
     "evalue": "'float' object is not subscriptable",
     "output_type": "error",
     "traceback": [
      "\u001b[0;31m---------------------------------------------------------------------------\u001b[0m",
      "\u001b[0;31mTypeError\u001b[0m                                 Traceback (most recent call last)",
      "\u001b[0;32m<ipython-input-8-3349d697758f>\u001b[0m in \u001b[0;36m<module>\u001b[0;34m\u001b[0m\n\u001b[0;32m----> 1\u001b[0;31m \u001b[0;34m(\u001b[0m\u001b[0mloopfnum\u001b[0m\u001b[0;34m,\u001b[0m \u001b[0mloopgsd\u001b[0m\u001b[0;34m,\u001b[0m \u001b[0mloopsn\u001b[0m\u001b[0;34m,\u001b[0m \u001b[0mloopefl\u001b[0m\u001b[0;34m,\u001b[0m \u001b[0mloopint_time\u001b[0m\u001b[0;34m)\u001b[0m \u001b[0;34m=\u001b[0m \u001b[0mloopOverEFL\u001b[0m\u001b[0;34m(\u001b[0m\u001b[0mres\u001b[0m\u001b[0;34m,\u001b[0m\u001b[0mwv\u001b[0m\u001b[0;34m,\u001b[0m \u001b[0;36m45\u001b[0m\u001b[0;34m,\u001b[0m \u001b[0;36m5.5\u001b[0m\u001b[0;34m,\u001b[0m \u001b[0;36m30\u001b[0m\u001b[0;34m)\u001b[0m\u001b[0;34m\u001b[0m\u001b[0;34m\u001b[0m\u001b[0m\n\u001b[0m\u001b[1;32m      2\u001b[0m \u001b[0;34m\u001b[0m\u001b[0m\n\u001b[1;32m      3\u001b[0m \u001b[0mget_ipython\u001b[0m\u001b[0;34m(\u001b[0m\u001b[0;34m)\u001b[0m\u001b[0;34m.\u001b[0m\u001b[0mrun_line_magic\u001b[0m\u001b[0;34m(\u001b[0m\u001b[0;34m'matplotlib'\u001b[0m\u001b[0;34m,\u001b[0m \u001b[0;34m'widget'\u001b[0m\u001b[0;34m)\u001b[0m\u001b[0;34m\u001b[0m\u001b[0;34m\u001b[0m\u001b[0m\n\u001b[1;32m      4\u001b[0m \u001b[0mfig\u001b[0m\u001b[0;34m,\u001b[0m \u001b[0max1\u001b[0m \u001b[0;34m=\u001b[0m \u001b[0mplt\u001b[0m\u001b[0;34m.\u001b[0m\u001b[0msubplots\u001b[0m\u001b[0;34m(\u001b[0m\u001b[0mfigsize\u001b[0m\u001b[0;34m=\u001b[0m\u001b[0;34m(\u001b[0m\u001b[0;36m6\u001b[0m\u001b[0;34m,\u001b[0m \u001b[0;36m4\u001b[0m\u001b[0;34m)\u001b[0m\u001b[0;34m)\u001b[0m\u001b[0;34m\u001b[0m\u001b[0;34m\u001b[0m\u001b[0m\n\u001b[1;32m      5\u001b[0m \u001b[0max1\u001b[0m\u001b[0;34m.\u001b[0m\u001b[0mset_title\u001b[0m\u001b[0;34m(\u001b[0m\u001b[0;34m'GSD vs mean S/N'\u001b[0m\u001b[0;34m)\u001b[0m\u001b[0;34m\u001b[0m\u001b[0;34m\u001b[0m\u001b[0m\n",
      "\u001b[0;32m<ipython-input-7-9fceb728cd8d>\u001b[0m in \u001b[0;36mloopOverEFL\u001b[0;34m(res, wv, apeture, pixelsize, dlam)\u001b[0m\n\u001b[1;32m      9\u001b[0m     \u001b[0;32mfor\u001b[0m \u001b[0mfnum\u001b[0m \u001b[0;32min\u001b[0m \u001b[0mrange\u001b[0m\u001b[0;34m(\u001b[0m\u001b[0;36m3\u001b[0m\u001b[0;34m,\u001b[0m \u001b[0;36m30\u001b[0m\u001b[0;34m,\u001b[0m \u001b[0;36m1\u001b[0m\u001b[0;34m)\u001b[0m\u001b[0;34m:\u001b[0m\u001b[0;34m\u001b[0m\u001b[0;34m\u001b[0m\u001b[0m\n\u001b[1;32m     10\u001b[0m         \u001b[0mefl\u001b[0m\u001b[0;34m=\u001b[0m\u001b[0mfnum\u001b[0m\u001b[0;34m*\u001b[0m\u001b[0mapeture\u001b[0m\u001b[0;34m\u001b[0m\u001b[0;34m\u001b[0m\u001b[0m\n\u001b[0;32m---> 11\u001b[0;31m         \u001b[0mgsd\u001b[0m\u001b[0;34m=\u001b[0m\u001b[0;36m550e3\u001b[0m\u001b[0;34m/\u001b[0m\u001b[0mefl\u001b[0m\u001b[0;34m*\u001b[0m\u001b[0;36m1e-3\u001b[0m \u001b[0;34m*\u001b[0m \u001b[0mpixelsize\u001b[0m\u001b[0;34m[\u001b[0m\u001b[0;36m0\u001b[0m\u001b[0;34m]\u001b[0m\u001b[0;34m\u001b[0m\u001b[0;34m\u001b[0m\u001b[0m\n\u001b[0m\u001b[1;32m     12\u001b[0m         \u001b[0mmaxexposuretime\u001b[0m\u001b[0;34m=\u001b[0m\u001b[0;36m0.1318\u001b[0m\u001b[0;34m*\u001b[0m\u001b[0mgsd\u001b[0m  \u001b[0;31m#https://www.wolframalpha.com/input/?i=1m+%2F+sqrt%28Gravitational+constant+*mass+of+earth%2F%28radius+of+earth+%2B+550km%29%29+in+ms\u001b[0m\u001b[0;34m\u001b[0m\u001b[0;34m\u001b[0m\u001b[0m\n\u001b[1;32m     13\u001b[0m         captured_phots= convertRadAtSatLevelToPhotonsCapturedBySensor(radwatts=res,\n",
      "\u001b[0;31mTypeError\u001b[0m: 'float' object is not subscriptable"
     ]
    }
   ],
   "source": [
    "(loopfnum, loopgsd, loopsn, loopefl, loopint_time) = loopOverEFL(res,wv, 45, 5.5, 30)\n",
    "\n",
    "%matplotlib widget\n",
    "fig, ax1 = plt.subplots(figsize=(6, 4))\n",
    "ax1.set_title('GSD vs mean S/N')\n",
    "\n",
    "ax1.set_xlabel('GSD (m)')\n",
    "ax1.set_ylabel('S/N')\n",
    "\n",
    "\n",
    "ax1.plot(loopgsd, loopsn)\n",
    "ax1.tick_params(axis='y')\n",
    "plt.grid(True)\n",
    "\n",
    "fig.tight_layout()  # otherwise the right y-label is slightly clipped\n",
    "plt.show()"
   ]
  },
  {
   "cell_type": "code",
   "execution_count": null,
   "metadata": {
    "scrolled": false
   },
   "outputs": [],
   "source": [
    "Ds=[45, 60, 95]\n",
    "pixs=[5.5, (25, 9.6)]\n",
    "\n",
    "def tick_function(gsd,pixelsize,D):\n",
    "    efl = 550e3/gsd*1e-3 * pixelsize / D\n",
    "    return [\"%.1f\" % z for z in efl]\n",
    "\n",
    "for D in range(len(Ds)):\n",
    "    for pix in range(len(pixs)):\n",
    "        (loopfnum, loopgsd, loopsn, loopefl,loopint_time) = loopOverEFL(res,wv, Ds[D], pixs[pix], 15)\n",
    "\n",
    "        %matplotlib inline\n",
    "#         fig, ax1 = plt.subplots(figsize=(6, 4))\n",
    "#         ax1.set_title('F/# vs GSD and mean S/N - Aperture {}, Pixel Size {}'.format(Ds[D],pixs[pix]))\n",
    "#         color = 'tab:red'\n",
    "#         ax1.set_xlabel('F/#')\n",
    "#         ax1.set_ylabel('S/N', color=color)\n",
    "\n",
    "\n",
    "#         ax1.plot(loopfnum, loopsn, color=color)\n",
    "#         ax1.tick_params(axis='y', labelcolor=color)\n",
    "#         plt.grid(True)\n",
    "#         ax2 = ax1.twinx()  # instantiate a second axes that shares the same x-axis\n",
    "\n",
    "#         color = 'tab:blue'\n",
    "#         ax2.set_ylabel('GSD (m)', color=color)  # we already handled the x-label with ax1\n",
    "#         ax2.plot(loopfnum, loopgsd, color=color,linestyle='dashed')\n",
    "#         ax2.tick_params(axis='y', labelcolor=color)\n",
    "#         plt.ylim(0,100)\n",
    "#         fig.tight_layout()  # otherwise the right y-label is slightly clipped\n",
    "#         plt.show()\n",
    "\n",
    "\n",
    "        \n",
    "        fig, ax1 = plt.subplots(figsize=(6, 4))\n",
    "        ax2 = ax1.twiny()\n",
    "        ax1.set_title('Aperture {}, Pixel Size {}'.format(Ds[D],pixs[pix]))\n",
    "\n",
    "        ax1.set_xlabel('GSD (m)')\n",
    "        ax1.set_ylabel('S/N')\n",
    "        \n",
    "        \n",
    "        ax1.plot(loopgsd, loopsn)\n",
    "        #ax1.tick_params(axis='y')\n",
    "        ax1.set_xlim(0,30)\n",
    "        ax1.set_ylim(0,200)\n",
    "        plt.grid(True)\n",
    "        #fig.tight_layout()  # otherwise the right y-label is slightly clipped\n",
    "        \n",
    "        new_tick_locations = ax1.get_xticks() #np.array([5, 10, 15])\n",
    "        \n",
    "        ax2.set_xlim(ax1.get_xlim())\n",
    "        ax2.set_xticks(new_tick_locations[1:])\n",
    "        ax2.set_xticklabels(tick_function(new_tick_locations[1:],pixs[pix],Ds[D]))\n",
    "        ax2.set_xlabel('F/#')\n",
    "        \n",
    "        plt.show()"
   ]
  },
  {
   "cell_type": "code",
   "execution_count": null,
   "metadata": {
    "scrolled": false
   },
   "outputs": [],
   "source": [
    "%matplotlib widget\n",
    "\n",
    "fig, ax1 = plt.subplots(figsize=(8, 6))\n",
    "plt.grid(True)\n",
    "ax1.set_title('F/# vs GSD and mean S/N')\n",
    "ax2 = ax1.twiny()  # instantiate a second axes that shares the same x-axis\n",
    "ax1.autoscale_view()\n",
    "ax2.autoscale_view()\n",
    "\n",
    "@widgets.interact(aperture=(10, 100, 1),  \n",
    "                  pixelsize=widgets.Dropdown(\n",
    "                      options=[('Ximea 5.5um', 5.5), ('OpenHSI - 25um', 25)],\n",
    "                      value=25,\n",
    "                      description='Pixel Size:'), \n",
    "                  dlam=(1,50,1))\n",
    "def update(aperture = 45, pixelsize=5.5, dlam=30):\n",
    "    \"\"\"Remove old lines from plot and plot new one\"\"\"\n",
    "    ax1.clear() \n",
    "    ax2.clear()\n",
    "    \n",
    "    (loopfnum, loopgsd, loopsn, loopefl,loopint_time) = loopOverEFL(res,wv, aperture, pixelsize, dlam)\n",
    "\n",
    "    ax1.set_title('Aperture {}, Pixel Size {}, Bandwidth {}'.format(aperture,pixelsize,dlam))\n",
    "\n",
    "    ax2.set_xlabel('GSD (m)')\n",
    "    ax1.set_ylabel('S/N')\n",
    "    \n",
    "    ax1.plot(loopgsd, loopsn)\n",
    "    ax2.plot(loopgsd, loopsn)\n",
    "    #ax1.tick_params(axis='y')\n",
    "\n",
    "    #new_tick_locations = ax2.get_xticks() #np.array([5, 10, 15])\n",
    "    \n",
    "    \n",
    "    #ax2.set_xlim(ax1.get_xlim())\n",
    "    #ax2.set_xticks(new_tick_locations[1:])\n",
    "    ax1.set_xticklabels(tick_function(ax2.get_xticks() ,pixelsize,aperture))\n",
    "    ax1.set_xlabel('F/#')\n",
    "    plt.grid(True)\n",
    "#     print(loopsn)\n",
    "#     print(loopgsd)\n",
    "    ax1.set_xlim(np.min(loopgsd),pixelsize*3.5)\n",
    "    ax1.set_ylim([0, loopsn[0]*0.9])\n",
    "    \n",
    "    ax2.set_xlim(np.min(loopgsd),pixelsize*3.5)\n",
    "    ax2.set_ylim([0, loopsn[0]*0.9])\n",
    "    plt.show()\n",
    "        "
   ]
  },
  {
   "cell_type": "code",
   "execution_count": null,
   "metadata": {},
   "outputs": [],
   "source": [
    "a=tick_function(new_tick_locations[1:],25,95)\n",
    "\n",
    "a\n",
    "loopgsd"
   ]
  },
  {
   "cell_type": "code",
   "execution_count": null,
   "metadata": {},
   "outputs": [],
   "source": [
    "new_tick_locations[1:]"
   ]
  }
 ],
 "metadata": {
  "kernelspec": {
   "display_name": "Python 3",
   "language": "python",
   "name": "python3"
  },
  "language_info": {
   "codemirror_mode": {
    "name": "ipython",
    "version": 3
   },
   "file_extension": ".py",
   "mimetype": "text/x-python",
   "name": "python",
   "nbconvert_exporter": "python",
   "pygments_lexer": "ipython3",
   "version": "3.7.9"
  }
 },
 "nbformat": 4,
 "nbformat_minor": 4
}
